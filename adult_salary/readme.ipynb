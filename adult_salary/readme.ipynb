{
 "cells": [
  {
   "cell_type": "markdown",
   "metadata": {},
   "source": [
    "---\n",
    "title: DB Lab 2\n",
    "type: lab\n",
    "duration: \"1:25\"\n",
    "creator:\n",
    "    name: Francesco Mosconi\n",
    "    city: SF\n",
    "---"
   ]
  },
  {
   "cell_type": "markdown",
   "metadata": {},
   "source": [
    "# ![](https://ga-dash.s3.amazonaws.com/production/assets/logo-9f88ae6c9c3871690e33280fcf557f33.png) DB Lab 2"
   ]
  },
  {
   "cell_type": "markdown",
   "metadata": {},
   "source": [
    "## Introduction\n",
    "\n",
    "The goal of this lab is to build a model to predict adult salary from their demographic data. The dataset comes from the [UCI Database](http://archive.ics.uci.edu/ml/datasets/Adult) and it is locally stored in a [SQLite Database](./assets/datasets/adult.sqlite).\n",
    "\n",
    "The target variable is binary. Adults are partitioned in 2 classes with salaries above or below 50 thousand dollars.\n",
    "\n",
    "This is an example of how data science can be useful to complement the information in our possession to produce new insights. Think for example about taking public demographic data using it for marketing or city planning.\n",
    "\n",
    "Can you find some other industry examples where demographic data could be used to predict something?\n"
   ]
  },
  {
   "cell_type": "markdown",
   "metadata": {},
   "source": [
    "## Exercise\n",
    "\n",
    "#### Requirements\n",
    "\n",
    "- Extract the data from the SQLite Database and import it in Pandas\n",
    "- Decide what to do with missing values\n",
    "- Explore the features distribution:\n",
    "    - categorical features\n",
    "    - numerical features\n",
    "- Build a predictive model\n",
    "- Evaluate the accuracy of the model and compare to a benchmark\n",
    "\n",
    "**Bonus:**\n",
    "- Tune the model parameters to improve the accuracy score\n",
    "\n",
    "#### Starter code\n",
    "\n",
    "[Starter Code](./assets/code/starter-code/starter-code-1_4.ipynb)\n",
    "[Solution Code](./assets/code/solution-code/solution-code-1_4.ipynb)\n"
   ]
  }
 ],
 "metadata": {
  "kernelspec": {
   "display_name": "Python 2",
   "language": "python",
   "name": "python2"
  },
  "language_info": {
   "codemirror_mode": {
    "name": "ipython",
    "version": 2
   },
   "file_extension": ".py",
   "mimetype": "text/x-python",
   "name": "python",
   "nbconvert_exporter": "python",
   "pygments_lexer": "ipython2",
   "version": "2.7.11"
  }
 },
 "nbformat": 4,
 "nbformat_minor": 0
}
